{
  "nbformat": 4,
  "nbformat_minor": 0,
  "metadata": {
    "colab": {
      "provenance": [],
      "include_colab_link": true
    },
    "kernelspec": {
      "name": "python3",
      "display_name": "Python 3"
    },
    "language_info": {
      "name": "python"
    }
  },
  "cells": [
    {
      "cell_type": "markdown",
      "metadata": {
        "id": "view-in-github",
        "colab_type": "text"
      },
      "source": [
        "<a href=\"https://colab.research.google.com/github/ashutoshpydev/python_basic/blob/main/listprogram.ipynb\" target=\"_parent\"><img src=\"https://colab.research.google.com/assets/colab-badge.svg\" alt=\"Open In Colab\"/></a>"
      ]
    },
    {
      "cell_type": "code",
      "execution_count": null,
      "metadata": {
        "id": "lL_y7t66S2Xv"
      },
      "outputs": [],
      "source": [
        "\n",
        "#1. program to find total positive number from a list.\n",
        "mylist=[-1,-2,3,4,5,6,7,-9]\n",
        "for i in mylist:\n",
        "  if i>0:\n",
        "    print(i) \n"
      ]
    },
    {
      "cell_type": "code",
      "source": [],
      "metadata": {
        "id": "9Qb9DIeRfY2u"
      },
      "execution_count": null,
      "outputs": []
    },
    {
      "cell_type": "code",
      "source": [
        "#2.program to find total negative number from a list.\n",
        "\n",
        "mylist=[-1,-2,3,4,5,6,7,-9,-7,-4]\n",
        "for i in mylist:\n",
        "  if i<0:\n",
        "    print(i) \n"
      ],
      "metadata": {
        "id": "vg48Vta1VIoR"
      },
      "execution_count": null,
      "outputs": []
    },
    {
      "cell_type": "code",
      "source": [
        "#3.program to find total odd number from a list.\n",
        "mylist=[1,2,3,4,5,6,7,9,7,4]\n",
        "for i in mylist:\n",
        "  if i%2!=0:\n",
        "    print(i) "
      ],
      "metadata": {
        "id": "D29E1JN9Vs8L"
      },
      "execution_count": null,
      "outputs": []
    },
    {
      "cell_type": "code",
      "source": [
        "#4.program to find total even number from a list.\n",
        "mylist=[-1,2,3,4,5,6,7,9,7,4]\n",
        "for i in mylist:\n",
        "  if i%2==0 and i>0:\n",
        "    print(i) "
      ],
      "metadata": {
        "id": "zktFZYC5WeaR"
      },
      "execution_count": null,
      "outputs": []
    },
    {
      "cell_type": "code",
      "source": [],
      "metadata": {
        "id": "M1S0tqVbVMww"
      },
      "execution_count": null,
      "outputs": []
    },
    {
      "cell_type": "code",
      "source": [
        "#5.program to find duplicate number from a list.\n",
        "mylist=[-1,2,3,3,4,5,9,6,7,9,7,4]\n",
        "\n",
        "print(mylist.)\n",
        "    "
      ],
      "metadata": {
        "id": "nX8N1obOXTpw"
      },
      "execution_count": null,
      "outputs": []
    },
    {
      "cell_type": "code",
      "source": [
        "#7..program to find total element from a list.\n",
        "mylist=[]\n",
        "count=int(input( \"enter the count of element :\"))\n",
        "count1=0\n",
        "sum=0\n",
        "for i in range(count):\n",
        "  l1=int(input(\"enter the number\"))\n",
        "  mylist.append(l1)\n",
        "  count1=count1+1\n",
        "print(\"mylist= \",mylist)\n",
        "print(\"count=\",count)\n",
        "for i in mylist:\n",
        "  sum=sum+i\n",
        "print(\"sum=\",sum)\n",
        "avg=sum/count1\n",
        "print(\"average =\",avg)\n",
        "\n",
        "Max=mylist[0]\n",
        "for i in mylist:\n",
        "  if i>Max:\n",
        "    Max=i\n",
        "print(\"maximum value of list:\",Max)\n",
        "\n",
        "\n",
        "    "
      ],
      "metadata": {
        "id": "vAISTb-XeiXf"
      },
      "execution_count": null,
      "outputs": []
    }
  ]
}